{
 "cells": [
  {
   "cell_type": "code",
   "execution_count": 1,
   "id": "b262a134",
   "metadata": {},
   "outputs": [],
   "source": [
    "import numpy as np\n",
    "import pandas as pd\n",
    "import matplotlib.pyplot as plt\n",
    "import shap\n",
    "\n",
    "from scipy.stats import kurtosis, skew\n",
    "from scipy.signal import find_peaks\n",
    "\n",
    "from sklearn.preprocessing import MinMaxScaler, OneHotEncoder\n",
    "from sklearn.model_selection import train_test_split\n",
    "from sklearn.feature_selection import SelectFromModel\n",
    "from sklearn.naive_bayes import GaussianNB\n",
    "from sklearn.ensemble import RandomForestClassifier\n",
    "from sklearn.metrics import accuracy_score, f1_score, precision_score, recall_score, classification_report\n",
    "from sklearn.inspection import (partial_dependence, PartialDependenceDisplay)\n",
    "\n",
    "import random\n",
    "import ruptures as rpt"
   ]
  },
  {
   "cell_type": "code",
   "execution_count": 2,
   "id": "a8e0c7d8",
   "metadata": {},
   "outputs": [],
   "source": [
    "def print_decision_rules(rf):\n",
    "\n",
    "    for tree_idx, est in enumerate(rf.estimators_):\n",
    "        tree = est.tree_\n",
    "        assert tree.value.shape[1] == 1 # no support for multi-output\n",
    "\n",
    "        print('TREE: {}'.format(tree_idx))\n",
    "\n",
    "        iterator = enumerate(zip(tree.children_left, tree.children_right, tree.feature, tree.threshold, tree.value))\n",
    "        for node_idx, data in iterator:\n",
    "            left, right, feature, th, value = data\n",
    "\n",
    "            # left: index of left child (if any)\n",
    "            # right: index of right child (if any)\n",
    "            # feature: index of the feature to check\n",
    "            # th: the threshold to compare against\n",
    "            # value: values associated with classes\n",
    "\n",
    "            # for classifier, value is 0 except the index of the class to return\n",
    "            class_idx = np.argmax(value[0])\n",
    "\n",
    "            if left == -1 and right == -1:\n",
    "                print('{} LEAF: return class={}'.format(node_idx, class_idx))\n",
    "            else:\n",
    "                print('{} NODE: if feature[{}] < {} then next={} else next={}'.format(node_idx, rf.feature_names_in_[feature], th, left, right))"
   ]
  },
  {
   "cell_type": "code",
   "execution_count": 3,
   "id": "554034cd",
   "metadata": {},
   "outputs": [],
   "source": [
    "def statistical_features(arr):\n",
    "    vmin = np.amin(arr)\n",
    "    vmax = np.amax(arr)\n",
    "    mean = np.mean(arr)\n",
    "    std = np.std(arr)\n",
    "    return vmin, vmax, mean, std\n",
    "\n",
    "def shape_features(arr):\n",
    "    skewness = skew(arr)\n",
    "    kurt = kurtosis(arr)\n",
    "    return skewness, kurt"
   ]
  },
  {
   "cell_type": "code",
   "execution_count": 4,
   "id": "046c10b0",
   "metadata": {},
   "outputs": [],
   "source": [
    "df_lag = pd.read_csv(\"C:/Users/milena/Documents/tcc/dataset/combinedlagEDA.csv\")\n",
    "train_set = df_lag.iloc[:,0:48]\n",
    "labels = df_lag.iloc[:,48:49]"
   ]
  },
  {
   "cell_type": "code",
   "execution_count": 5,
   "id": "263847ee",
   "metadata": {},
   "outputs": [],
   "source": [
    "#Create a random forest Classifier\n",
    "clf = RandomForestClassifier(n_estimators=100,max_depth=15)\n",
    "\n",
    "# Split our data\n",
    "train, test, train_labels, test_labels = train_test_split(train_set, labels, test_size=0.3, random_state=30)\n",
    "\n",
    "#Train the model using the training sets y_pred=clf.predict(X_test)\n",
    "clf.fit(train, train_labels.values.ravel())\n",
    "\n",
    "y_pred = clf.predict(test)"
   ]
  },
  {
   "cell_type": "code",
   "execution_count": 6,
   "id": "ee5e66cb",
   "metadata": {},
   "outputs": [
    {
     "name": "stdout",
     "output_type": "stream",
     "text": [
      "acc = 0.9512587038028923\n",
      "pre = 0.9509340715414543\n",
      "recall = 0.9294042300664805\n",
      "f1 = 0.9386371235539438\n"
     ]
    }
   ],
   "source": [
    "f1score   = f1_score        (test_labels, y_pred, average = 'macro')\n",
    "recall    = recall_score    (test_labels, y_pred, average = 'macro')\n",
    "precision = precision_score (test_labels, y_pred, average = 'macro')\n",
    "accuracy  = accuracy_score  (test_labels, y_pred)\n",
    "\n",
    "print('acc =', accuracy)\n",
    "print('pre =', precision)\n",
    "print('recall =', recall) \n",
    "print('f1 =', f1score)"
   ]
  },
  {
   "cell_type": "code",
   "execution_count": 7,
   "id": "e13bc671",
   "metadata": {},
   "outputs": [
    {
     "data": {
      "text/plain": [
       "<BarContainer object of 48 artists>"
      ]
     },
     "execution_count": 7,
     "metadata": {},
     "output_type": "execute_result"
    },
    {
     "data": {
      "image/png": "[encoded data removed]",
      "text/plain": [
       "<Figure size 432x288 with 1 Axes>"
      ]
     },
     "metadata": {
      "needs_background": "light"
     },
     "output_type": "display_data"
    }
   ],
   "source": [
    "# feature imporance:\n",
    "plt.barh(list(df_lag.columns.values[0:48]), clf.feature_importances_)"
   ]
  },
  {
   "cell_type": "code",
   "execution_count": 8,
   "id": "16ee28c1",
   "metadata": {},
   "outputs": [],
   "source": [
    "# decision rules\n",
    "# print_decision_rules(clf)"
   ]
  },
  {
   "cell_type": "code",
   "execution_count": 9,
   "id": "414305c0",
   "metadata": {},
   "outputs": [],
   "source": [
    "# partial dependency plot\n",
    "# PartialDependenceDisplay.from_estimator(clf, train, features=list(df_lag.columns.values[0:1]), target=0)"
   ]
  },
  {
   "cell_type": "code",
   "execution_count": 10,
   "id": "068bd025",
   "metadata": {},
   "outputs": [],
   "source": [
    "# PartialDependenceDisplay.from_estimator(clf, train, features=list(df_lag.columns.values[1:2]), target=0)"
   ]
  },
  {
   "cell_type": "code",
   "execution_count": 11,
   "id": "56f20394",
   "metadata": {},
   "outputs": [],
   "source": [
    "# PartialDependenceDisplay.from_estimator(clf, train, features=list(df_lag.columns.values[2:3]), target=0)"
   ]
  },
  {
   "cell_type": "code",
   "execution_count": 12,
   "id": "0613a8b5",
   "metadata": {},
   "outputs": [],
   "source": [
    "# PartialDependenceDisplay.from_estimator(clf, train, features=list(df_lag.columns.values[3:4]), target=0)"
   ]
  },
  {
   "cell_type": "code",
   "execution_count": 13,
   "id": "808f3fa8",
   "metadata": {},
   "outputs": [],
   "source": [
    "# PartialDependenceDisplay.from_estimator(clf, train, features=list(df_lag.columns.values[4:5]), target=0)"
   ]
  },
  {
   "cell_type": "code",
   "execution_count": 14,
   "id": "d0aaf6a0",
   "metadata": {},
   "outputs": [],
   "source": [
    "# PartialDependenceDisplay.from_estimator(clf, train, features=list(df_lag.columns.values[5:6]), target=0)"
   ]
  },
  {
   "cell_type": "code",
   "execution_count": 15,
   "id": "04036da1",
   "metadata": {},
   "outputs": [],
   "source": [
    "# PartialDependenceDisplay.from_estimator(clf, train, features=list(df_lag.columns.values[6:7]), target=0)"
   ]
  },
  {
   "cell_type": "code",
   "execution_count": 16,
   "id": "fd7932fd",
   "metadata": {},
   "outputs": [],
   "source": [
    "# PartialDependenceDisplay.from_estimator(clf, train, features=list(df_lag.columns.values[7:8]), target=0)"
   ]
  },
  {
   "cell_type": "code",
   "execution_count": 17,
   "id": "9b871512",
   "metadata": {},
   "outputs": [],
   "source": [
    "# PartialDependenceDisplay.from_estimator(clf, train, features=list(df_lag.columns.values[8:9]), target=0)"
   ]
  },
  {
   "cell_type": "code",
   "execution_count": 18,
   "id": "ecde20e2",
   "metadata": {},
   "outputs": [],
   "source": [
    "# PartialDependenceDisplay.from_estimator(clf, train, features=list(df_lag.columns.values[9:10]), target=0)"
   ]
  },
  {
   "cell_type": "code",
   "execution_count": 19,
   "id": "67e12c4e",
   "metadata": {},
   "outputs": [],
   "source": [
    "# PartialDependenceDisplay.from_estimator(clf, train, features=list(df_lag.columns.values[10:11]), target=0)"
   ]
  },
  {
   "cell_type": "code",
   "execution_count": 20,
   "id": "3a18142c",
   "metadata": {},
   "outputs": [],
   "source": [
    "# PartialDependenceDisplay.from_estimator(clf, train, features=list(df_lag.columns.values[11:12]), target=0)"
   ]
  },
  {
   "cell_type": "code",
   "execution_count": 21,
   "id": "32c00c6c",
   "metadata": {},
   "outputs": [],
   "source": [
    "# PartialDependenceDisplay.from_estimator(clf, train, features=list(df_lag.columns.values[12:13]), target=0)"
   ]
  },
  {
   "cell_type": "code",
   "execution_count": 22,
   "id": "1c62c2b4",
   "metadata": {},
   "outputs": [],
   "source": [
    "# PartialDependenceDisplay.from_estimator(clf, train, features=list(df_lag.columns.values[13:14]), target=0)"
   ]
  },
  {
   "cell_type": "code",
   "execution_count": 23,
   "id": "54f3ff70",
   "metadata": {},
   "outputs": [],
   "source": [
    "# PartialDependenceDisplay.from_estimator(clf, train, features=list(df_lag.columns.values[14:15]), target=0)"
   ]
  },
  {
   "cell_type": "code",
   "execution_count": 24,
   "id": "483fd192",
   "metadata": {},
   "outputs": [],
   "source": [
    "# PartialDependenceDisplay.from_estimator(clf, train, features=list(df_lag.columns.values[15:16]), target=0)"
   ]
  },
  {
   "cell_type": "code",
   "execution_count": 25,
   "id": "bc9c047a",
   "metadata": {},
   "outputs": [],
   "source": [
    "# PartialDependenceDisplay.from_estimator(clf, train, features=list(df_lag.columns.values[16:17]), target=0)"
   ]
  },
  {
   "cell_type": "code",
   "execution_count": 26,
   "id": "3af140de",
   "metadata": {},
   "outputs": [],
   "source": [
    "# PartialDependenceDisplay.from_estimator(clf, train, features=list(df_lag.columns.values[17:18]), target=0)"
   ]
  },
  {
   "cell_type": "code",
   "execution_count": 27,
   "id": "6da3ae0a",
   "metadata": {},
   "outputs": [],
   "source": [
    "# PartialDependenceDisplay.from_estimator(clf, train, features=list(df_lag.columns.values[18:19]), target=0)"
   ]
  },
  {
   "cell_type": "code",
   "execution_count": 28,
   "id": "c4be1baa",
   "metadata": {},
   "outputs": [],
   "source": [
    "# PartialDependenceDisplay.from_estimator(clf, train, features=list(df_lag.columns.values[19:20]), target=0)"
   ]
  },
  {
   "cell_type": "code",
   "execution_count": 29,
   "id": "2ad3d506",
   "metadata": {},
   "outputs": [],
   "source": [
    "# PartialDependenceDisplay.from_estimator(clf, train, features=list(df_lag.columns.values[20:21]), target=0)"
   ]
  },
  {
   "cell_type": "code",
   "execution_count": 30,
   "id": "a3e85d82",
   "metadata": {},
   "outputs": [],
   "source": [
    "# PartialDependenceDisplay.from_estimator(clf, train, features=list(df_lag.columns.values[21:22]), target=0)"
   ]
  },
  {
   "cell_type": "code",
   "execution_count": 31,
   "id": "0fcb4ea4",
   "metadata": {},
   "outputs": [],
   "source": [
    "# PartialDependenceDisplay.from_estimator(clf, train, features=list(df_lag.columns.values[22:23]), target=0)"
   ]
  },
  {
   "cell_type": "code",
   "execution_count": 32,
   "id": "557ffb43",
   "metadata": {},
   "outputs": [],
   "source": [
    "# PartialDependenceDisplay.from_estimator(clf, train, features=list(df_lag.columns.values[23:24]), target=0)"
   ]
  },
  {
   "cell_type": "code",
   "execution_count": 33,
   "id": "13f2ed5e",
   "metadata": {},
   "outputs": [],
   "source": [
    "# PartialDependenceDisplay.from_estimator(clf, train, features=list(df_lag.columns.values[24:25]), target=0)"
   ]
  },
  {
   "cell_type": "code",
   "execution_count": 34,
   "id": "f349138d",
   "metadata": {},
   "outputs": [],
   "source": [
    "# PartialDependenceDisplay.from_estimator(clf, train, features=list(df_lag.columns.values[25:26]), target=0)"
   ]
  },
  {
   "cell_type": "code",
   "execution_count": 35,
   "id": "f7d83029",
   "metadata": {},
   "outputs": [],
   "source": [
    "# PartialDependenceDisplay.from_estimator(clf, train, features=list(df_lag.columns.values[26:27]), target=0)"
   ]
  },
  {
   "cell_type": "code",
   "execution_count": 36,
   "id": "b21e0824",
   "metadata": {},
   "outputs": [],
   "source": [
    "# PartialDependenceDisplay.from_estimator(clf, train, features=list(df_lag.columns.values[27:28]), target=0)"
   ]
  },
  {
   "cell_type": "code",
   "execution_count": 37,
   "id": "d41814e9",
   "metadata": {},
   "outputs": [],
   "source": [
    "# PartialDependenceDisplay.from_estimator(clf, train, features=list(df_lag.columns.values[28:29]), target=0)"
   ]
  },
  {
   "cell_type": "code",
   "execution_count": 38,
   "id": "0a9cd482",
   "metadata": {},
   "outputs": [],
   "source": [
    "# PartialDependenceDisplay.from_estimator(clf, train, features=list(df_lag.columns.values[29:30]), target=0)"
   ]
  },
  {
   "cell_type": "code",
   "execution_count": 39,
   "id": "2d8bb2fe",
   "metadata": {},
   "outputs": [],
   "source": [
    "# PartialDependenceDisplay.from_estimator(clf, train, features=list(df_lag.columns.values[30:31]), target=0)"
   ]
  },
  {
   "cell_type": "code",
   "execution_count": 40,
   "id": "6cb78859",
   "metadata": {},
   "outputs": [],
   "source": [
    "# PartialDependenceDisplay.from_estimator(clf, train, features=list(df_lag.columns.values[31:32]), target=0)"
   ]
  },
  {
   "cell_type": "code",
   "execution_count": 41,
   "id": "31fa42c7",
   "metadata": {},
   "outputs": [],
   "source": [
    "# PartialDependenceDisplay.from_estimator(clf, train, features=list(df_lag.columns.values[32:33]), target=0)"
   ]
  },
  {
   "cell_type": "code",
   "execution_count": 42,
   "id": "42ae3706",
   "metadata": {},
   "outputs": [],
   "source": [
    "# PartialDependenceDisplay.from_estimator(clf, train, features=list(df_lag.columns.values[33:34]), target=0)"
   ]
  },
  {
   "cell_type": "code",
   "execution_count": 43,
   "id": "8b580f2f",
   "metadata": {},
   "outputs": [],
   "source": [
    "# PartialDependenceDisplay.from_estimator(clf, train, features=list(df_lag.columns.values[34:35]), target=0)"
   ]
  },
  {
   "cell_type": "code",
   "execution_count": 44,
   "id": "71a1dc0a",
   "metadata": {},
   "outputs": [],
   "source": [
    "# PartialDependenceDisplay.from_estimator(clf, train, features=list(df_lag.columns.values[35:36]), target=0)"
   ]
  },
  {
   "cell_type": "code",
   "execution_count": 45,
   "id": "f8601440",
   "metadata": {},
   "outputs": [],
   "source": [
    "# PartialDependenceDisplay.from_estimator(clf, train, features=list(df_lag.columns.values[36:37]), target=0)"
   ]
  },
  {
   "cell_type": "code",
   "execution_count": 46,
   "id": "49ed4dab",
   "metadata": {},
   "outputs": [],
   "source": [
    "# PartialDependenceDisplay.from_estimator(clf, train, features=list(df_lag.columns.values[37:38]), target=0)"
   ]
  },
  {
   "cell_type": "code",
   "execution_count": 47,
   "id": "e94d6c1c",
   "metadata": {},
   "outputs": [],
   "source": [
    "# PartialDependenceDisplay.from_estimator(clf, train, features=list(df_lag.columns.values[38:39]), target=0)"
   ]
  },
  {
   "cell_type": "code",
   "execution_count": 48,
   "id": "c1783e96",
   "metadata": {},
   "outputs": [
    {
     "data": {
      "text/plain": [
       "<sklearn.inspection._plot.partial_dependence.PartialDependenceDisplay at 0x25b6141ffa0>"
      ]
     },
     "execution_count": 48,
     "metadata": {},
     "output_type": "execute_result"
    },
    {
     "data": {
      "image/png": "[encoded data removed]",
      "text/plain": [
       "<Figure size 432x288 with 2 Axes>"
      ]
     },
     "metadata": {
      "needs_background": "light"
     },
     "output_type": "display_data"
    }
   ],
   "source": [
    "PartialDependenceDisplay.from_estimator(clf, train, features=list(df_lag.columns.values[39:40]), target=0)"
   ]
  },
  {
   "cell_type": "code",
   "execution_count": 49,
   "id": "6623d14a",
   "metadata": {},
   "outputs": [
    {
     "data": {
      "text/plain": [
       "<sklearn.inspection._plot.partial_dependence.PartialDependenceDisplay at 0x25b61472af0>"
      ]
     },
     "execution_count": 49,
     "metadata": {},
     "output_type": "execute_result"
    },
    {
     "data": {
      "image/png": "[encoded data removed]",
      "text/plain": [
       "<Figure size 432x288 with 2 Axes>"
      ]
     },
     "metadata": {
      "needs_background": "light"
     },
     "output_type": "display_data"
    }
   ],
   "source": [
    "PartialDependenceDisplay.from_estimator(clf, train, features=list(df_lag.columns.values[39:40]), target=1)"
   ]
  },
  {
   "cell_type": "code",
   "execution_count": 50,
   "id": "ea72d7ce",
   "metadata": {},
   "outputs": [
    {
     "data": {
      "text/plain": [
       "<sklearn.inspection._plot.partial_dependence.PartialDependenceDisplay at 0x25b61428610>"
      ]
     },
     "execution_count": 50,
     "metadata": {},
     "output_type": "execute_result"
    },
    {
     "data": {
      "image/png": "[encoded data removed]",
      "text/plain": [
       "<Figure size 432x288 with 2 Axes>"
      ]
     },
     "metadata": {
      "needs_background": "light"
     },
     "output_type": "display_data"
    }
   ],
   "source": [
    "PartialDependenceDisplay.from_estimator(clf, train, features=list(df_lag.columns.values[39:40]), target=2)"
   ]
  },
  {
   "cell_type": "code",
   "execution_count": 51,
   "id": "0f52800d",
   "metadata": {},
   "outputs": [],
   "source": [
    "# PartialDependenceDisplay.from_estimator(clf, train, features=list(df_lag.columns.values[40:41]), target=0)"
   ]
  },
  {
   "cell_type": "code",
   "execution_count": 52,
   "id": "c995ac59",
   "metadata": {},
   "outputs": [],
   "source": [
    "# PartialDependenceDisplay.from_estimator(clf, train, features=list(df_lag.columns.values[41:42]), target=0)"
   ]
  },
  {
   "cell_type": "code",
   "execution_count": 53,
   "id": "2ffb76ef",
   "metadata": {},
   "outputs": [],
   "source": [
    "# PartialDependenceDisplay.from_estimator(clf, train, features=list(df_lag.columns.values[42:43]), target=0)"
   ]
  },
  {
   "cell_type": "code",
   "execution_count": 54,
   "id": "877c3e43",
   "metadata": {},
   "outputs": [],
   "source": [
    "# PartialDependenceDisplay.from_estimator(clf, train, features=list(df_lag.columns.values[43:44]), target=0)"
   ]
  },
  {
   "cell_type": "code",
   "execution_count": null,
   "id": "4c26825b",
   "metadata": {},
   "outputs": [],
   "source": [
    "PartialDependenceDisplay.from_estimator(clf, train, features=list(df_lag.columns.values[44:45]), target=0)"
   ]
  },
  {
   "cell_type": "code",
   "execution_count": null,
   "id": "2f5ebc40",
   "metadata": {},
   "outputs": [],
   "source": [
    "PartialDependenceDisplay.from_estimator(clf, train, features=list(df_lag.columns.values[44:45]), target=1)"
   ]
  },
  {
   "cell_type": "code",
   "execution_count": null,
   "id": "fef2b551",
   "metadata": {},
   "outputs": [],
   "source": [
    "PartialDependenceDisplay.from_estimator(clf, train, features=list(df_lag.columns.values[44:45]), target=2)"
   ]
  },
  {
   "cell_type": "code",
   "execution_count": null,
   "id": "66907c9f",
   "metadata": {},
   "outputs": [],
   "source": [
    "# PartialDependenceDisplay.from_estimator(clf, train, features=list(df_lag.columns.values[45:46]), target=0)"
   ]
  },
  {
   "cell_type": "code",
   "execution_count": null,
   "id": "e3952c40",
   "metadata": {},
   "outputs": [],
   "source": [
    "# PartialDependenceDisplay.from_estimator(clf, train, features=list(df_lag.columns.values[46:47]), target=0)"
   ]
  },
  {
   "cell_type": "code",
   "execution_count": null,
   "id": "876f5689",
   "metadata": {},
   "outputs": [],
   "source": [
    "# PartialDependenceDisplay.from_estimator(clf, train, features=list(df_lag.columns.values[47:48]), target=0)"
   ]
  },
  {
   "cell_type": "code",
   "execution_count": null,
   "id": "dbaeb40a",
   "metadata": {},
   "outputs": [],
   "source": [
    "explainer = shap.TreeExplainer(clf)\n",
    "shap_values = explainer.shap_values(train)"
   ]
  },
  {
   "cell_type": "code",
   "execution_count": null,
   "id": "f6966056",
   "metadata": {},
   "outputs": [],
   "source": [
    "shap.dependence_plot(\"TEMPR_Max\", shap_values[0], train)"
   ]
  },
  {
   "cell_type": "code",
   "execution_count": null,
   "id": "78d1994e",
   "metadata": {},
   "outputs": [],
   "source": [
    "shap.force_plot(explainer.expected_value[0][0:10], shap_values[0][0:10])"
   ]
  },
  {
   "cell_type": "code",
   "execution_count": null,
   "id": "05fc9349",
   "metadata": {},
   "outputs": [],
   "source": [
    "shap.summary_plot(shap_values, train)"
   ]
  },
  {
   "cell_type": "code",
   "execution_count": null,
   "id": "afb8a2b1",
   "metadata": {},
   "outputs": [],
   "source": []
  }
 ],
 "metadata": {
  "kernelspec": {
   "display_name": "Python 3",
   "language": "python",
   "name": "python3"
  },
  "language_info": {
   "codemirror_mode": {
    "name": "ipython",
    "version": 3
   },
   "file_extension": ".py",
   "mimetype": "text/x-python",
   "name": "python",
   "nbconvert_exporter": "python",
   "pygments_lexer": "ipython3",
   "version": "3.8.1"
  }
 },
 "nbformat": 4,
 "nbformat_minor": 5
}
